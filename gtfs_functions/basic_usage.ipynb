{
 "cells": [
  {
   "cell_type": "code",
   "execution_count": 1,
   "metadata": {},
   "outputs": [
    {
     "ename": "AttributeError",
     "evalue": "module 'numpy' has no attribute 'unicode'",
     "output_type": "error",
     "traceback": [
      "\u001b[0;31m---------------------------------------------------------------------------\u001b[0m",
      "\u001b[0;31mAttributeError\u001b[0m                            Traceback (most recent call last)",
      "Cell \u001b[0;32mIn[1], line 5\u001b[0m\n\u001b[1;32m      2\u001b[0m \u001b[39m# gtfs_path = 'data/Convencional_c643156b-cfe4-4948-b001-5436d59201c2.zip'\u001b[39;00m\n\u001b[1;32m      3\u001b[0m gtfs_path \u001b[39m=\u001b[39m \u001b[39m'\u001b[39m\u001b[39mdata/sfmta.zip\u001b[39m\u001b[39m'\u001b[39m\n\u001b[0;32m----> 5\u001b[0m routes, stops, stop_times, trips, shapes \u001b[39m=\u001b[39m import_gtfs(gtfs_path)\n\u001b[1;32m      6\u001b[0m routes\u001b[39m.\u001b[39mhead()\n",
      "File \u001b[0;32m~/repos/gtfs_functions/gtfs_functions/gtfs_functions.py:41\u001b[0m, in \u001b[0;36mimport_gtfs\u001b[0;34m(gtfs_path)\u001b[0m\n\u001b[1;32m     27\u001b[0m \u001b[39mdef\u001b[39;00m \u001b[39mimport_gtfs\u001b[39m(gtfs_path):\n\u001b[1;32m     28\u001b[0m     \u001b[39m# Partridge to read the feed\u001b[39;00m\n\u001b[1;32m     29\u001b[0m     \u001b[39m# service_ids = pd.read_csv(gtfs_path + '/trips.txt')['service_id'].unique()\u001b[39;00m\n\u001b[0;32m   (...)\u001b[0m\n\u001b[1;32m     39\u001b[0m \n\u001b[1;32m     40\u001b[0m     \u001b[39m# Leaving only the option for the busiest service_id\u001b[39;00m\n\u001b[0;32m---> 41\u001b[0m     service_ids \u001b[39m=\u001b[39m ptg\u001b[39m.\u001b[39;49mread_busiest_date(gtfs_path)[\u001b[39m1\u001b[39m]\n\u001b[1;32m     43\u001b[0m     view \u001b[39m=\u001b[39m {\u001b[39m'\u001b[39m\u001b[39mtrips.txt\u001b[39m\u001b[39m'\u001b[39m: {\u001b[39m'\u001b[39m\u001b[39mservice_id\u001b[39m\u001b[39m'\u001b[39m: service_ids}}\n\u001b[1;32m     45\u001b[0m     feed \u001b[39m=\u001b[39m ptg\u001b[39m.\u001b[39mload_geo_feed(gtfs_path, view)\n",
      "File \u001b[0;32m~/miniconda3/envs/gtfs-functions/lib/python3.10/site-packages/partridge/readers.py:60\u001b[0m, in \u001b[0;36mread_busiest_date\u001b[0;34m(path)\u001b[0m\n\u001b[1;32m     58\u001b[0m \u001b[39m\u001b[39m\u001b[39m\"\"\"Find the earliest date with the most trips\"\"\"\u001b[39;00m\n\u001b[1;32m     59\u001b[0m feed \u001b[39m=\u001b[39m load_raw_feed(path)\n\u001b[0;32m---> 60\u001b[0m \u001b[39mreturn\u001b[39;00m _busiest_date(feed)\n",
      "File \u001b[0;32m~/miniconda3/envs/gtfs-functions/lib/python3.10/site-packages/partridge/readers.py:118\u001b[0m, in \u001b[0;36m_busiest_date\u001b[0;34m(feed)\u001b[0m\n\u001b[1;32m    117\u001b[0m \u001b[39mdef\u001b[39;00m \u001b[39m_busiest_date\u001b[39m(feed: Feed) \u001b[39m-\u001b[39m\u001b[39m>\u001b[39m Tuple[datetime\u001b[39m.\u001b[39mdate, FrozenSet[\u001b[39mstr\u001b[39m]]:\n\u001b[0;32m--> 118\u001b[0m     service_ids_by_date \u001b[39m=\u001b[39m _service_ids_by_date(feed)\n\u001b[1;32m    119\u001b[0m     trip_counts_by_date \u001b[39m=\u001b[39m _trip_counts_by_date(feed)\n\u001b[1;32m    121\u001b[0m     \u001b[39mdef\u001b[39;00m \u001b[39mmax_by\u001b[39m(kv: Tuple[datetime\u001b[39m.\u001b[39mdate, \u001b[39mint\u001b[39m]) \u001b[39m-\u001b[39m\u001b[39m>\u001b[39m Tuple[\u001b[39mint\u001b[39m, \u001b[39mint\u001b[39m]:\n",
      "File \u001b[0;32m~/miniconda3/envs/gtfs-functions/lib/python3.10/site-packages/partridge/readers.py:156\u001b[0m, in \u001b[0;36m_service_ids_by_date\u001b[0;34m(feed)\u001b[0m\n\u001b[1;32m    153\u001b[0m results: DefaultDict[datetime\u001b[39m.\u001b[39mdate, Set[\u001b[39mstr\u001b[39m]] \u001b[39m=\u001b[39m defaultdict(\u001b[39mset\u001b[39m)\n\u001b[1;32m    154\u001b[0m removals: DefaultDict[datetime\u001b[39m.\u001b[39mdate, Set[\u001b[39mstr\u001b[39m]] \u001b[39m=\u001b[39m defaultdict(\u001b[39mset\u001b[39m)\n\u001b[0;32m--> 156\u001b[0m service_ids \u001b[39m=\u001b[39m \u001b[39mset\u001b[39m(feed\u001b[39m.\u001b[39;49mtrips\u001b[39m.\u001b[39mservice_id)\n\u001b[1;32m    157\u001b[0m calendar \u001b[39m=\u001b[39m feed\u001b[39m.\u001b[39mcalendar\n\u001b[1;32m    158\u001b[0m caldates \u001b[39m=\u001b[39m feed\u001b[39m.\u001b[39mcalendar_dates\n",
      "File \u001b[0;32m~/miniconda3/envs/gtfs-functions/lib/python3.10/site-packages/partridge/gtfs.py:16\u001b[0m, in \u001b[0;36m_read_file.<locals>.getter\u001b[0;34m(self)\u001b[0m\n\u001b[1;32m     15\u001b[0m \u001b[39mdef\u001b[39;00m \u001b[39mgetter\u001b[39m(\u001b[39mself\u001b[39m) \u001b[39m-\u001b[39m\u001b[39m>\u001b[39m pd\u001b[39m.\u001b[39mDataFrame:\n\u001b[0;32m---> 16\u001b[0m     \u001b[39mreturn\u001b[39;00m \u001b[39mself\u001b[39;49m\u001b[39m.\u001b[39;49mget(filename)\n",
      "File \u001b[0;32m~/miniconda3/envs/gtfs-functions/lib/python3.10/site-packages/partridge/gtfs.py:48\u001b[0m, in \u001b[0;36mFeed.get\u001b[0;34m(self, filename)\u001b[0m\n\u001b[1;32m     46\u001b[0m df \u001b[39m=\u001b[39m \u001b[39mself\u001b[39m\u001b[39m.\u001b[39m_cache\u001b[39m.\u001b[39mget(filename)\n\u001b[1;32m     47\u001b[0m \u001b[39mif\u001b[39;00m df \u001b[39mis\u001b[39;00m \u001b[39mNone\u001b[39;00m:\n\u001b[0;32m---> 48\u001b[0m     df \u001b[39m=\u001b[39m \u001b[39mself\u001b[39;49m\u001b[39m.\u001b[39;49m_read(filename)\n\u001b[1;32m     49\u001b[0m     df \u001b[39m=\u001b[39m \u001b[39mself\u001b[39m\u001b[39m.\u001b[39m_filter(filename, df)\n\u001b[1;32m     50\u001b[0m     df \u001b[39m=\u001b[39m \u001b[39mself\u001b[39m\u001b[39m.\u001b[39m_prune(filename, df)\n",
      "File \u001b[0;32m~/miniconda3/envs/gtfs-functions/lib/python3.10/site-packages/partridge/gtfs.py:48\u001b[0m, in \u001b[0;36mFeed.get\u001b[0;34m(self, filename)\u001b[0m\n\u001b[1;32m     46\u001b[0m df \u001b[39m=\u001b[39m \u001b[39mself\u001b[39m\u001b[39m.\u001b[39m_cache\u001b[39m.\u001b[39mget(filename)\n\u001b[1;32m     47\u001b[0m \u001b[39mif\u001b[39;00m df \u001b[39mis\u001b[39;00m \u001b[39mNone\u001b[39;00m:\n\u001b[0;32m---> 48\u001b[0m     df \u001b[39m=\u001b[39m \u001b[39mself\u001b[39;49m\u001b[39m.\u001b[39;49m_read(filename)\n\u001b[1;32m     49\u001b[0m     df \u001b[39m=\u001b[39m \u001b[39mself\u001b[39m\u001b[39m.\u001b[39m_filter(filename, df)\n\u001b[1;32m     50\u001b[0m     df \u001b[39m=\u001b[39m \u001b[39mself\u001b[39m\u001b[39m.\u001b[39m_prune(filename, df)\n",
      "File \u001b[0;32m~/miniconda3/envs/gtfs-functions/lib/python3.10/site-packages/partridge/gtfs.py:102\u001b[0m, in \u001b[0;36mFeed._read_csv\u001b[0;34m(self, filename)\u001b[0m\n\u001b[1;32m     99\u001b[0m \u001b[39mwith\u001b[39;00m \u001b[39mopen\u001b[39m(path, \u001b[39m\"\u001b[39m\u001b[39mrb\u001b[39m\u001b[39m\"\u001b[39m) \u001b[39mas\u001b[39;00m f:\n\u001b[1;32m    100\u001b[0m     encoding \u001b[39m=\u001b[39m detect_encoding(f)\n\u001b[0;32m--> 102\u001b[0m df \u001b[39m=\u001b[39m pd\u001b[39m.\u001b[39mread_csv(path, dtype\u001b[39m=\u001b[39mnp\u001b[39m.\u001b[39;49municode, encoding\u001b[39m=\u001b[39mencoding, index_col\u001b[39m=\u001b[39m\u001b[39mFalse\u001b[39;00m)\n\u001b[1;32m    104\u001b[0m \u001b[39m# Strip leading/trailing whitespace from column names\u001b[39;00m\n\u001b[1;32m    105\u001b[0m df\u001b[39m.\u001b[39mrename(columns\u001b[39m=\u001b[39m\u001b[39mlambda\u001b[39;00m x: x\u001b[39m.\u001b[39mstrip(), inplace\u001b[39m=\u001b[39m\u001b[39mTrue\u001b[39;00m)\n",
      "File \u001b[0;32m~/miniconda3/envs/gtfs-functions/lib/python3.10/site-packages/numpy/__init__.py:320\u001b[0m, in \u001b[0;36m__getattr__\u001b[0;34m(attr)\u001b[0m\n\u001b[1;32m    317\u001b[0m     \u001b[39mfrom\u001b[39;00m \u001b[39m.\u001b[39;00m\u001b[39mtesting\u001b[39;00m \u001b[39mimport\u001b[39;00m Tester\n\u001b[1;32m    318\u001b[0m     \u001b[39mreturn\u001b[39;00m Tester\n\u001b[0;32m--> 320\u001b[0m \u001b[39mraise\u001b[39;00m \u001b[39mAttributeError\u001b[39;00m(\u001b[39m\"\u001b[39m\u001b[39mmodule \u001b[39m\u001b[39m{!r}\u001b[39;00m\u001b[39m has no attribute \u001b[39m\u001b[39m\"\u001b[39m\n\u001b[1;32m    321\u001b[0m                      \u001b[39m\"\u001b[39m\u001b[39m{!r}\u001b[39;00m\u001b[39m\"\u001b[39m\u001b[39m.\u001b[39mformat(\u001b[39m__name__\u001b[39m, attr))\n",
      "\u001b[0;31mAttributeError\u001b[0m: module 'numpy' has no attribute 'unicode'"
     ]
    }
   ],
   "source": [
    "from gtfs_functions import import_gtfs\n",
    "# gtfs_path = 'data/Convencional_c643156b-cfe4-4948-b001-5436d59201c2.zip'\n",
    "gtfs_path = 'data/sfmta.zip'\n",
    "\n",
    "routes, stops, stop_times, trips, shapes = import_gtfs(gtfs_path)\n",
    "routes.head()"
   ]
  },
  {
   "cell_type": "code",
   "execution_count": 2,
   "metadata": {},
   "outputs": [],
   "source": [
    "import partridge as ptg\n",
    "\n",
    "view = {'trips.txt': {'service_id': '2_merged_11239965'}}\n",
    "\n",
    "feed = ptg.load_geo_feed(gtfs_path, view)\n"
   ]
  },
  {
   "cell_type": "code",
   "execution_count": 5,
   "metadata": {},
   "outputs": [
    {
     "data": {
      "text/plain": [
       "array(['3_merged_11239967', '1_merged_11239966', '2_merged_11239968',\n",
       "       '2_merged_11239965', '1_merged_11239963', '3_merged_11239964'],\n",
       "      dtype=object)"
      ]
     },
     "execution_count": 5,
     "metadata": {},
     "output_type": "execute_result"
    }
   ],
   "source": [
    "import zipfile\n",
    "import pandas as pd\n",
    "\n",
    "with zipfile.ZipFile(gtfs_path) as myzip:\n",
    "    myzip.extract(\"trips.txt\")\n",
    "\n",
    "\n",
    "\n",
    "service_ids = pd.read_csv('trips.txt')['service_id'].unique()\n",
    "service_ids\n",
    "# service_ids = frozenset(tuple(service_ids))\n",
    "# os.remove('trips.txt')\n"
   ]
  },
  {
   "cell_type": "code",
   "execution_count": 9,
   "metadata": {},
   "outputs": [],
   "source": [
    "\n",
    "with zipfile.ZipFile(gtfs_path) as myzip:\n",
    "    myzip.extractall(path='data', members=['routes.txt', 'trips.txt', 'stop_times.txt', 'stops.txt', 'shapes.txt', 'calendar.txt'])"
   ]
  },
  {
   "cell_type": "code",
   "execution_count": 11,
   "metadata": {},
   "outputs": [
    {
     "name": "stdout",
     "output_type": "stream",
     "text": [
      "['agency.txt', 'calendar_dates.txt', 'calendar.txt', 'stops.txt', 'routes.txt', 'trips.txt', 'fare_attributes.txt', 'fare_rules.txt', 'stop_times.txt', 'shapes.txt']\n"
     ]
    }
   ],
   "source": [
    "with zipfile.ZipFile(gtfs_path) as myzip:\n",
    "    print(myzip.namelist())"
   ]
  },
  {
   "cell_type": "code",
   "execution_count": null,
   "metadata": {},
   "outputs": [],
   "source": [
    "with zipfile.ZipFile(gtfs_path) as myzip:\n",
    "    files = myzip.namelist()"
   ]
  },
  {
   "cell_type": "code",
   "execution_count": 16,
   "metadata": {},
   "outputs": [],
   "source": [
    "import os\n",
    "\n",
    "os.mkdir('tmp')"
   ]
  },
  {
   "cell_type": "code",
   "execution_count": 17,
   "metadata": {},
   "outputs": [
    {
     "name": "stdout",
     "output_type": "stream",
     "text": [
      "\u001b[0;31mSignature:\u001b[0m \u001b[0mzipfile\u001b[0m\u001b[0;34m.\u001b[0m\u001b[0mZipFile\u001b[0m\u001b[0;34m.\u001b[0m\u001b[0mextract\u001b[0m\u001b[0;34m(\u001b[0m\u001b[0mself\u001b[0m\u001b[0;34m,\u001b[0m \u001b[0mmember\u001b[0m\u001b[0;34m,\u001b[0m \u001b[0mpath\u001b[0m\u001b[0;34m=\u001b[0m\u001b[0;32mNone\u001b[0m\u001b[0;34m,\u001b[0m \u001b[0mpwd\u001b[0m\u001b[0;34m=\u001b[0m\u001b[0;32mNone\u001b[0m\u001b[0;34m)\u001b[0m\u001b[0;34m\u001b[0m\u001b[0;34m\u001b[0m\u001b[0m\n",
      "\u001b[0;31mDocstring:\u001b[0m\n",
      "Extract a member from the archive to the current working directory,\n",
      "using its full name. Its file information is extracted as accurately\n",
      "as possible. `member' may be a filename or a ZipInfo object. You can\n",
      "specify a different directory using `path'.\n",
      "\u001b[0;31mFile:\u001b[0m      ~/miniconda3/envs/gtfs-functions/lib/python3.10/zipfile.py\n",
      "\u001b[0;31mType:\u001b[0m      function"
     ]
    }
   ],
   "source": [
    "?zipfile.ZipFile.extract"
   ]
  },
  {
   "cell_type": "code",
   "execution_count": 12,
   "metadata": {},
   "outputs": [],
   "source": [
    "from zipfile import ZipFile\n",
    "import os\n",
    "import logging\n",
    "\n",
    "class Feed:\n",
    "    def __init__(\n",
    "        self,\n",
    "        gtfs_path: str):\n",
    "    \n",
    "        self._gtfs_path = gtfs_path \n",
    "    \n",
    "    @property\n",
    "    def gtfs_path(self):\n",
    "        return self._gtfs_path\n",
    "    \n",
    "    @property\n",
    "    def files(self):\n",
    "        with ZipFile(gtfs_path) as myzip:\n",
    "            return myzip.namelist()\n",
    "    \n",
    "    def extract_file(file):\n",
    "        if f'{file}.txt' in files:\n",
    "            os.mkdir('tmp')\n",
    "            with ZipFile(gtfs_path) as myzip:\n",
    "                myzip.extract(f\"{file}.txt\", path='tmp')\n",
    "                data = pd.read_csv(f'tmp/{file}.txt')\n",
    "\n",
    "            return data\n",
    "        else:\n",
    "            return logging.info(f'File {file} not found.')                \n",
    "\n",
    "\n",
    "    @property\n",
    "    def agency(self):\n",
    "        # if 'agency.txt' in self.files:\n",
    "        #     os.mkdir('tmp')\n",
    "        #     with ZipFile(gtfs_path) as myzip:\n",
    "        #         myzip.extract(\"agency.txt\", path='tmp')\n",
    "        extract_file('agency')\n",
    "        return\n",
    "\n",
    "    @property\n",
    "    def calendar(self):\n",
    "        return\n",
    "\n",
    "    @property\n",
    "    def calendar_dates(self):\n",
    "        return\n",
    "\n",
    "    @property\n",
    "    def trips(self):\n",
    "        return\n",
    "    \n",
    "    @property\n",
    "    def routes(self):\n",
    "        return\n",
    "    \n",
    "    @property\n",
    "    def stops(self):\n",
    "        return\n",
    "    \n",
    "    @property\n",
    "    def stop_times(self):\n",
    "        return\n",
    "    \n",
    "    @property\n",
    "    def routes(self):\n",
    "        return\n"
   ]
  },
  {
   "cell_type": "code",
   "execution_count": 13,
   "metadata": {},
   "outputs": [],
   "source": [
    "feed = Feed(gtfs_path=gtfs_path)"
   ]
  },
  {
   "cell_type": "code",
   "execution_count": 14,
   "metadata": {},
   "outputs": [
    {
     "data": {
      "text/plain": [
       "['agency.txt',\n",
       " 'calendar_dates.txt',\n",
       " 'calendar.txt',\n",
       " 'stops.txt',\n",
       " 'routes.txt',\n",
       " 'trips.txt',\n",
       " 'fare_attributes.txt',\n",
       " 'fare_rules.txt',\n",
       " 'stop_times.txt',\n",
       " 'shapes.txt']"
      ]
     },
     "execution_count": 14,
     "metadata": {},
     "output_type": "execute_result"
    }
   ],
   "source": [
    "feed.files"
   ]
  },
  {
   "cell_type": "code",
   "execution_count": null,
   "metadata": {},
   "outputs": [],
   "source": []
  }
 ],
 "metadata": {
  "kernelspec": {
   "display_name": "gtfs-functions",
   "language": "python",
   "name": "python3"
  },
  "language_info": {
   "codemirror_mode": {
    "name": "ipython",
    "version": 3
   },
   "file_extension": ".py",
   "mimetype": "text/x-python",
   "name": "python",
   "nbconvert_exporter": "python",
   "pygments_lexer": "ipython3",
   "version": "3.10.9"
  },
  "orig_nbformat": 4,
  "vscode": {
   "interpreter": {
    "hash": "1924534f266121051b230cff6b976d0c819aa5621485df7802b6d9f7569c50b3"
   }
  }
 },
 "nbformat": 4,
 "nbformat_minor": 2
}
